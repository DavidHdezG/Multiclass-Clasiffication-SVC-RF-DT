{
 "cells": [
  {
   "cell_type": "code",
   "execution_count": 36,
   "metadata": {},
   "outputs": [],
   "source": [
    "import numpy as np\n",
    "import torch\n",
    "import torchvision.transforms as transforms\n",
    "import torchvision.datasets as datasets\n",
    "import torchvision.models as models\n",
    "from torch.utils.data import DataLoader\n",
    "from PIL import Image\n",
    "from sklearn.model_selection import GridSearchCV, train_test_split\n",
    "from sklearn.svm import SVC\n",
    "from sklearn.tree import DecisionTreeClassifier\n",
    "from sklearn.ensemble import RandomForestClassifier\n",
    "import matplotlib.pyplot as plt\n",
    "from sklearn.metrics import (\n",
    "    accuracy_score,\n",
    "    f1_score,\n",
    "    precision_score,\n",
    "    recall_score,\n",
    "    roc_curve,\n",
    "    auc,\n",
    ")\n"
   ]
  },
  {
   "cell_type": "code",
   "execution_count": 1,
   "metadata": {},
   "outputs": [
    {
     "data": {
      "text/plain": [
       "True"
      ]
     },
     "execution_count": 1,
     "metadata": {},
     "output_type": "execute_result"
    }
   ],
   "source": [
    "from dotenv import load_dotenv\n",
    "load_dotenv()"
   ]
  },
  {
   "attachments": {},
   "cell_type": "markdown",
   "metadata": {},
   "source": [
    "## Metrics for the model"
   ]
  },
  {
   "cell_type": "code",
   "execution_count": 37,
   "metadata": {},
   "outputs": [],
   "source": [
    "def metrics(y_test, y_pred, title):\n",
    "    print(f\"{title} metrics: \") \n",
    "    print(\"Accuracy: \", accuracy_score(y_test, y_pred))\n",
    "    print(\"F1\", f1_score(y_test, y_pred, average='weighted'))\n",
    "    print(\"Recall\", recall_score(y_test, y_pred, average='weighted'))\n",
    "    print(\"Precision\", precision_score(y_test, y_pred, average='weighted'))\n",
    "def plot_multiclass_roc_auc(y_true, y_pred_proba, n_classes):\n",
    "    fpr = dict()\n",
    "    tpr = dict()\n",
    "    roc_auc = dict()\n",
    "\n",
    "    for i in range(n_classes):\n",
    "        fpr[i], tpr[i], _ = roc_curve(y_true == i, y_pred_proba[:, i])\n",
    "        roc_auc[i] = auc(fpr[i], tpr[i])\n",
    "\n",
    "    plt.figure()\n",
    "    for i in range(n_classes):\n",
    "        plt.plot(fpr[i], tpr[i], label=f\"Class {i}: AUC = {roc_auc[i]:.2f}\")\n",
    "\n",
    "    plt.plot([0, 1], [0, 1], 'k--')\n",
    "    plt.xlim([0.0, 1.0])\n",
    "    plt.ylim([0.0, 1.05])\n",
    "    plt.xlabel('Tasa de falsos positivos')\n",
    "    plt.ylabel('Tasa de verdaderos positivos')\n",
    "    plt.title('Curva ROC multiclase')\n",
    "    plt.legend(loc=\"lower right\")\n",
    "    plt.show()"
   ]
  },
  {
   "attachments": {},
   "cell_type": "markdown",
   "metadata": {},
   "source": [
    "# Download dataset"
   ]
  },
  {
   "cell_type": "code",
   "execution_count": 31,
   "metadata": {},
   "outputs": [
    {
     "name": "stdout",
     "output_type": "stream",
     "text": [
      "Downloading multiclass-weather-dataset.zip to /home/davidh/Documentos/Uni/DataScience/Clasificación\n",
      " 99%|█████████████████████████████████████▍| 90.0M/91.4M [00:05<00:00, 13.0MB/s]\n",
      "100%|██████████████████████████████████████| 91.4M/91.4M [00:05<00:00, 16.1MB/s]\n"
     ]
    }
   ],
   "source": [
    "!kaggle datasets download -d pratik2901/multiclass-weather-dataset "
   ]
  },
  {
   "cell_type": "code",
   "execution_count": null,
   "metadata": {},
   "outputs": [],
   "source": [
    "!unzip multiclass-weather-dataset.zip \n",
    "!rm multiclass-weather-dataset.zip\n",
    "!mv \"Multi-class Weather Dataset\" dataset"
   ]
  },
  {
   "attachments": {},
   "cell_type": "markdown",
   "metadata": {},
   "source": [
    "# Load CNN model to extract features"
   ]
  },
  {
   "cell_type": "code",
   "execution_count": 20,
   "metadata": {},
   "outputs": [],
   "source": [
    "model = models.resnet18(pretrained=True, progress=True)\n",
    "model = torch.nn.Sequential(*(list(model.children())[:-1]))\n",
    "model.eval()\n",
    "\n",
    "def extract_features(loader, model):\n",
    "    features = []\n",
    "    labels = []\n",
    "    for images, image_labels in loader:\n",
    "        with torch.no_grad():\n",
    "            outputs = model(images)\n",
    "            features.extend(outputs.view(outputs.size(0), -1).numpy())\n",
    "            labels.extend(image_labels.numpy())\n",
    "    return np.array(features), np.array(labels)\n"
   ]
  },
  {
   "attachments": {},
   "cell_type": "markdown",
   "metadata": {},
   "source": [
    "# Prepare dataset"
   ]
  },
  {
   "cell_type": "code",
   "execution_count": 33,
   "metadata": {},
   "outputs": [],
   "source": [
    "size = 28\n",
    "path = 'dataset'\n",
    "batch_size=32\n",
    "transform = transforms.Compose([\n",
    "    transforms.Resize(size),\n",
    "    transforms.CenterCrop(size),\n",
    "    transforms.ToTensor(),\n",
    "    transforms.Normalize([0.4001, 0.4313, 0.4275], [0.0229, 0.0205, 0.0189])\n",
    "])\n",
    "dataset = datasets.ImageFolder(root=path, transform=transform)\n",
    "\n",
    "train_data, test_data = train_test_split(dataset, test_size=0.2)\n",
    "\n",
    "train_loader = DataLoader(train_data, batch_size=batch_size, shuffle=True)\n",
    "test_loader = DataLoader(test_data, batch_size=batch_size, shuffle=False)\n",
    "\n",
    "train_features, train_labels = extract_features(train_loader, model)\n",
    "valid_features, valid_labels = extract_features(test_loader, model)\n",
    "\n",
    "X_train = train_features\n",
    "y_train = train_labels\n",
    "X_test = valid_features\n",
    "y_test = valid_labels\n",
    "n_classes = len(np.unique(y_test))"
   ]
  },
  {
   "attachments": {},
   "cell_type": "markdown",
   "metadata": {},
   "source": [
    "# SVC"
   ]
  },
  {
   "cell_type": "code",
   "execution_count": null,
   "metadata": {},
   "outputs": [],
   "source": [
    "param_grid = {'C': [0.1, 1, 10, 100, 1000], 'gamma': [0.1, 0.01, 0.001], 'kernel': ['rbf', 'linear', 'poly']}\n",
    "\n",
    "grid_search=GridSearchCV(SVC(),param_grid,cv=5,n_jobs=-1)\n",
    "grid_search.fit(X_train, y_train)\n",
    "\n",
    "print(\"Support Vector Machine\")\n",
    "print(\"Best hyperparameters:\")\n",
    "print(grid_search.best_params_)\n",
    "print(\"Best score:\")\n",
    "print(grid_search.best_score_)"
   ]
  },
  {
   "cell_type": "code",
   "execution_count": null,
   "metadata": {},
   "outputs": [],
   "source": [
    "svcClassifier = SVC(C=grid_search.best_params_['C'],kernel= grid_search.best_params_['kernel'], gamma=grid_search.best_params_['gamma'], decision_function_shape=grid_search.best_params_['decision_function_shape'])\n",
    "svcClassifier.fit(X_train, y_train)\n",
    "y_predSVC = svcClassifier.predict(X_test)\n",
    "metrics(y_test, y_predSVC, \"SVC\")"
   ]
  },
  {
   "cell_type": "code",
   "execution_count": null,
   "metadata": {},
   "outputs": [],
   "source": [
    "plot_multiclass_roc_auc(y_test, svcClassifier.predict_proba(X_test), n_classes)"
   ]
  },
  {
   "attachments": {},
   "cell_type": "markdown",
   "metadata": {},
   "source": [
    "# Decission Tree"
   ]
  },
  {
   "cell_type": "code",
   "execution_count": null,
   "metadata": {},
   "outputs": [],
   "source": [
    "param_grid = {'criterion':['gini','entropy'],'max_depth':[4,8,12,20,50,120,150],'splitter':['best','random']}\n",
    "dt_grid_search = GridSearchCV(DecisionTreeClassifier(),param_grid,cv=5,n_jobs=-1)\n",
    "dt_grid_search.fit(X_train, y_train)\n",
    " \n",
    "print(\"Decision Tree\")\n",
    "print(\"Best hyperparameters:\")\n",
    "print(dt_grid_search.best_params_)\n",
    "print(\"Best score:\")\n",
    "print(dt_grid_search.best_score_)"
   ]
  },
  {
   "cell_type": "code",
   "execution_count": null,
   "metadata": {},
   "outputs": [],
   "source": [
    "dt_classifier = DecisionTreeClassifier(criterion=dt_grid_search.best_params_['criterion'],max_depth=dt_grid_search.best_params_['max_depth'],splitter=dt_grid_search.best_params_['splitter'])\n",
    "dt_grid_search.fit(X_train, y_train)\n",
    "y_pred_DT = dt_grid_search.predict(X_test)\n",
    "metrics(y_test, y_pred_DT, \"Decision Tree\")"
   ]
  },
  {
   "cell_type": "code",
   "execution_count": null,
   "metadata": {},
   "outputs": [],
   "source": [
    "plot_multiclass_roc_auc(y_test, dt_grid_search.predict_proba(X_test), n_classes)"
   ]
  },
  {
   "attachments": {},
   "cell_type": "markdown",
   "metadata": {},
   "source": [
    "# Random Forest"
   ]
  },
  {
   "cell_type": "code",
   "execution_count": null,
   "metadata": {},
   "outputs": [],
   "source": [
    "param_grid = {'n_estimators':[10,50,100,200,500,1000],'criterion':['gini','entropy'],'max_depth':[4,8,12,20,50,120,150]}\n",
    "rf_grid_search = GridSearchCV(RandomForestClassifier(),param_grid,cv=5,n_jobs=-1)\n",
    "\n",
    "rf_grid_search.fit(X_train, y_train)\n",
    "print(\"Random Forest\")\n",
    "print(\"Best hyperparameters:\")\n",
    "print(rf_grid_search.best_params_)\n",
    "print(\"Best score:\")\n",
    "print(rf_grid_search.best_score_)"
   ]
  },
  {
   "cell_type": "code",
   "execution_count": null,
   "metadata": {},
   "outputs": [],
   "source": [
    "rf_classifier = RandomForestClassifier(n_estimators=rf_grid_search.best_params_['n_estimators'],criterion=rf_grid_search.best_params_['criterion'],max_depth=rf_grid_search.best_params_['max_depth'])\n",
    "rf_classifier.fit(X_train, y_train)\n",
    "\n",
    "y_pred_RF = rf_classifier.predict(X_test)\n",
    "\n",
    "metrics(y_test, y_pred_RF, \"Random Forest\")"
   ]
  },
  {
   "cell_type": "code",
   "execution_count": null,
   "metadata": {},
   "outputs": [],
   "source": [
    "plot_multiclass_roc_auc(y_test, dt_grid_search.predict_proba(X_test), n_classes)"
   ]
  }
 ],
 "metadata": {
  "kernelspec": {
   "display_name": ".venv",
   "language": "python",
   "name": "python3"
  },
  "language_info": {
   "codemirror_mode": {
    "name": "ipython",
    "version": 3
   },
   "file_extension": ".py",
   "mimetype": "text/x-python",
   "name": "python",
   "nbconvert_exporter": "python",
   "pygments_lexer": "ipython3",
   "version": "3.11.2"
  },
  "orig_nbformat": 4
 },
 "nbformat": 4,
 "nbformat_minor": 2
}
